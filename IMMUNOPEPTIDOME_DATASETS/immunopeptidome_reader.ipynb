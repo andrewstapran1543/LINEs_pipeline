{
 "cells": [
  {
   "cell_type": "markdown",
   "id": "0223f67f",
   "metadata": {},
   "source": [
    "### <i>Code for reading the peptide dataframes into single immunopeptidome list</i>"
   ]
  },
  {
   "cell_type": "code",
   "execution_count": null,
   "id": "7b49a4c1",
   "metadata": {},
   "outputs": [],
   "source": [
    "import re\n",
    "import pandas as pd\n",
    "import openpyxl"
   ]
  },
  {
   "cell_type": "markdown",
   "id": "fe144ec4",
   "metadata": {},
   "source": [
    "#### <a href=\"https://github.com/andrewstapran1543/LINEs_pipeline/tree/main/IMMUNOPEPTIDOME_DATASETS/CELL_LINES_PXD022020_PXD033685\">Cell line</a> experiment (PXD022020, PXD033685)"
   ]
  },
  {
   "cell_type": "code",
   "execution_count": null,
   "id": "fb3ed607",
   "metadata": {},
   "outputs": [],
   "source": [
    "def column_reader_non0(df,column_name):\n",
    "    set1 = df[((df[column_name] == '-') | (df[column_name].isna()) | (df[column_name].str.contains('LORF')))]\n",
    "    list1 = list(set1['Unmodified Peptide Sequence'])\n",
    "    return list1\n",
    "\n",
    "PXD033685 = pd.read_csv('/Users/andrewstapran/Desktop/LINEs_new/reference_files/immunopeptidomes/CellLines/PXD033685.csv',sep=',')\n",
    "PXD022020_1 = pd.read_csv('/Users/andrewstapran/Desktop/LINEs_new/reference_files/immunopeptidomes/CellLines/PXD022020_1.csv',sep=',')\n",
    "PXD022020_2 = pd.read_csv('/Users/andrewstapran/Desktop/LINEs_new/reference_files/immunopeptidomes/CellLines/PXD022020_2.csv',sep=',')\n",
    "\n",
    "output_list = column_reader_non0(PXD033685,'Proteins') + column_reader_non0(PXD022020_1,'Proteins') + column_reader_non0(PXD022020_2,'Proteins')\n",
    "CELLS_output_list_final = [a for a in output_list if len(a) >= 8]"
   ]
  },
  {
   "cell_type": "markdown",
   "id": "699d8b01",
   "metadata": {},
   "source": [
    "#### <a href =\"https://github.com/andrewstapran1543/LINEs_pipeline/tree/main/IMMUNOPEPTIDOME_DATASETS/GBM_demethylation\">GBM</a> cells experiment data"
   ]
  },
  {
   "cell_type": "code",
   "execution_count": null,
   "id": "f2325821",
   "metadata": {},
   "outputs": [],
   "source": [
    "GBM_peptidome = pd.read_excel('/Users/andrewstapran/Desktop/LINEs_new/reference_files/immunopeptidomes/NaturePaper_GBM_cells/41467_2019_13035_MOESM10_ESM.xlsx',sheet_name = '3. MHC_AllPeptides')\n",
    "GBM_peptidome2 = GBM_peptidome.replace(np.nan,'not_given')\n",
    "#subset3 = GBM_peptidome2[((~GBM_peptidome2['Accession'].str.contains('\\|')) & (subset1['Accession'].str.contains('L1')))]\n",
    "subset4 = GBM_peptidome2[GBM_peptidome2['Accession'].str.contains('LORF')]\n",
    "\n",
    "subset1 = GBM_peptidome[GBM_peptidome['Uniprot'] == False]\n",
    "subset2 = subset1[((subset1['Accession'].isna()) | (subset1['Accession'].str.contains('L1')))]\n",
    "list_prelim = [re.sub(r'\\(.*?\\)', '', a) for a in list(subset2['Peptide'])]\n",
    "final_list_GBM = [a for a in list_prelim if len(a) >= 8]\n",
    "LORF = list(subset4['Peptide'])\n",
    "final_list_GBM += LORF\n",
    "final_list_GBM"
   ]
  },
  {
   "cell_type": "markdown",
   "id": "b0a81325",
   "metadata": {},
   "source": [
    "#### Reading other datasets:\n",
    "<ul>\n",
    "    <li><a href=\"https://github.com/andrewstapran1543/LINEs_pipeline/blob/main/IMMUNOPEPTIDOME_DATASETS/HLA_ATLAS_CRYPTIC_PEPTIDES/cryptic_peptides.xlsx\">HLA_ATLAS_cryptic</a></li>\n",
    "    <li><a href=\"https://github.com/andrewstapran1543/LINEs_pipeline/blob/main/IMMUNOPEPTIDOME_DATASETS/B_CELLS_PXD001898/41467_2016_BFncomms10238_MOESM241_ESM.xlsx\">PXD001898</a></li>\n",
    "    <li><a href=\"https://github.com/andrewstapran1543/LINEs_pipeline/blob/main/IMMUNOPEPTIDOME_DATASETS/MELANOMA_PXD004894/peptides.txt.zip\">PXD004894</a></li>\n",
    "    <li><a href=\"https://github.com/andrewstapran1543/LINEs_pipeline/blob/main/IMMUNOPEPTIDOME_DATASETS/BREAST_CANCER_PXD009738/pmic12886-sup-0002-tables1.xlsx\">PXD009738</a></li>\n",
    "    <li><a href=\"https://github.com/andrewstapran1543/LINEs_pipeline/blob/main/IMMUNOPEPTIDOME_DATASETS/PEDIATRIC_SOLID_PXD017130/Immunopeptidome_peptide_list.csv\">PXD017130</a></li>\n",
    "    <li><a href=\"https://github.com/andrewstapran1543/LINEs_pipeline/tree/main/IMMUNOPEPTIDOME_DATASETS/B_CELLS_DIABETES_PXD026184\">PXD026184</a></li>\n",
    "    <li><a href=\"https://github.com/andrewstapran1543/LINEs_pipeline/tree/main/IMMUNOPEPTIDOME_DATASETS/MaMe163a_PXD034017\">PXD034017</a></li>\n",
    "    <li><a href=\"https://github.com/andrewstapran1543/LINEs_pipeline/tree/main/IMMUNOPEPTIDOME_DATASETS/PXD036856_3_CANCERS\">PXD036856</a></li>\n",
    "    <li><a href=\"https://github.com/andrewstapran1543/LINEs_pipeline/blob/main/IMMUNOPEPTIDOME_DATASETS/ereMAPs/13073_2020_740_MOESM1_ESM.xlsx\">ereMAPs (B-LCL and OVCAR)</a></li>\n",
    "    <li><a href=\"https://github.com/andrewstapran1543/LINEs_pipeline/tree/main/IMMUNOPEPTIDOME_DATASETS/IEDB\">IEDB</a></li>\n",
    "</ul>"
   ]
  },
  {
   "cell_type": "code",
   "execution_count": null,
   "id": "6ccae406",
   "metadata": {},
   "outputs": [],
   "source": [
    "print('HLA_ATLAS')\n",
    "HLA_ATLAS_CRYPTIC_PEPTIDES2 = pd.read_excel('/Users/andrewstapran/Desktop/LINEs_new/new_peptidomes/HLA_ATLAS/cryptic_peptides.xlsx')\n",
    "HLA_ATLAS_CRYPTIC_PEPTIDES = HLA_ATLAS_CRYPTIC_PEPTIDES2[HLA_ATLAS_CRYPTIC_PEPTIDES2['Category'] != 'OffFrame']\n",
    "\n",
    "print('PXD001898')\n",
    "PXD001898_cryptic_peptides = pd.read_excel('/Users/andrewstapran/Desktop/LINEs_new/new_peptidomes/PXD001898/41467_2016_BFncomms10238_MOESM241_ESM.xlsx')\n",
    "PXD001898_cryptic_peptides.columns = PXD001898_cryptic_peptides.loc[1]\n",
    "PXD001898_cryptic_peptides = PXD001898_cryptic_peptides[2:]\n",
    "\n",
    "print('PXD004894')\n",
    "PXD004894_peptides = pd.read_csv('/Users/andrewstapran/Desktop/LINEs_new/new_peptidomes/PXD004894/peptides.txt',sep='\\t')\n",
    "PXD004894_peptides_unannotated = PXD004894_peptides[PXD004894_peptides['Proteins'].isna()]\n",
    "\n",
    "print('PXD009738')\n",
    "PXD009738_peptides = pd.read_excel('/Users/andrewstapran/Desktop/LINEs_new/new_peptidomes/PXD009738/pmic12886-sup-0002-tables1.xlsx')\n",
    "PXD009738_peptides_unannotated = PXD009738_peptides[PXD009738_peptides['Accession'].isna()]\n",
    "\n",
    "print('PXD017130')\n",
    "PXD017130_peptides = pd.read_csv('/Users/andrewstapran/Desktop/LINEs_new/new_peptidomes/PXD017130/Immunopeptidome_peptide_list.csv',sep=',')\n",
    "PXD017130_peptides_unannotated = PXD017130_peptides[~PXD017130_peptides['Accession'].isna()]\n",
    "\n",
    "print('PXD026184')\n",
    "PXD026184_peptides = pd.read_csv('/Users/andrewstapran/Desktop/LINEs_new/new_peptidomes/PXD026184/peptides_HLA-I_2cells-data.txt',sep='\\t')\n",
    "PXD026184_peptides_unannotated = PXD026184_peptides[PXD026184_peptides.Proteins.isna()]\n",
    "\n",
    "print('PXD034017')\n",
    "PXD034017_peptides_PBMC_1 = pd.read_excel('/Users/andrewstapran/Desktop/LINEs_new/new_peptidomes/PXD034017_human/ac2c02198_si_003.xlsx',sheet_name = 'C')\n",
    "PXD034017_peptides_PBMC_2 = pd.read_excel('/Users/andrewstapran/Desktop/LINEs_new/new_peptidomes/PXD034017_human/ac2c02198_si_003.xlsx',sheet_name = 'D')\n",
    "PXD034017_peptides_MaMel63a_1 = pd.read_excel('/Users/andrewstapran/Desktop/LINEs_new/new_peptidomes/PXD034017_human/ac2c02198_si_003.xlsx',sheet_name = 'E')\n",
    "PXD034017_peptides_MaMel63a_2 = pd.read_excel('/Users/andrewstapran/Desktop/LINEs_new/new_peptidomes/PXD034017_human/ac2c02198_si_003.xlsx',sheet_name = 'G')\n",
    "PXD034017_peptides_MaMel63a_3 = pd.read_excel('/Users/andrewstapran/Desktop/LINEs_new/new_peptidomes/PXD034017_human/ac2c02198_si_003.xlsx',sheet_name = 'H')\n",
    "PXD034017_peptides_DG_75 = pd.read_excel('/Users/andrewstapran/Desktop/LINEs_new/new_peptidomes/PXD034017_human/ac2c02198_si_003.xlsx',sheet_name = 'F')\n",
    "def combiner(list_input):\n",
    "    subset = pd.DataFrame()\n",
    "    for element in list_input:\n",
    "        new = element[element['Gene'].isna()]\n",
    "        print(len(new))\n",
    "        subset = pd.concat([subset,new],axis=0)\n",
    "    return subset\n",
    "PXD034017_peptides_PBMC = combiner([PXD034017_peptides_PBMC_1,PXD034017_peptides_PBMC_2])\n",
    "PXD034017_peptides_MaMel63a = combiner([PXD034017_peptides_MaMel63a_1,PXD034017_peptides_MaMel63a_2,PXD034017_peptides_MaMel63a_3])\n",
    "PXD034017_peptides_DG_75 = combiner([PXD034017_peptides_DG_75])\n",
    "\n",
    "print('PXD036856')\n",
    "PXD036856_list = []\n",
    "for element in os.listdir('/Users/andrewstapran/Desktop/LINEs_new/new_peptidomes/PXD036856'):\n",
    "    print(element)\n",
    "    dataframe = pd.read_csv(f'/Users/andrewstapran/Desktop/LINEs_new/new_peptidomes/PXD036856/{element}')\n",
    "    dataframe_subset_nogene = dataframe[((~dataframe['Annotation'].isin(['CDS'])) & (~dataframe_subset['Annotation'].isin(['OffFrame'])))]\n",
    "    #dataframe_subset_nogene = dataframe_subset[((dataframe_subset['Gene'].isna()) | (dataframe_subset['Gene'] == '-'))]\n",
    "    #dataframe_subset_nogene = dataframe_subset[dataframe_subset['Gene'].isna()]\n",
    "    a = list(dataframe_subset_nogene['Sequence'])\n",
    "    PXD036856_list += a\n",
    "PXD036856_list_final = list(set(PXD036856_list))\n",
    "len(PXD036856_list_final)\n",
    "\n",
    "print('ereMAPs')\n",
    "file1 = open('/Users/andrewstapran/Desktop/LINEs_new/new_peptidomes/ereMAPs/peptides_all.txt','r')\n",
    "lines = file1.readlines()\n",
    "ereMAPs_list = [a.replace('\\n','') for a in lines ]\n",
    "\n",
    "print('ereMAPs_OVCAR')\n",
    "ereMAPs_OVCAR_list = ['IMGNVLLML','IPQGLRELV','LPSRSPPQL','RSVTQTGVQW','TPRHIIVRF']\n",
    "\n",
    "print('IEDB')\n",
    "IEDB = pd.read_csv('/Users/andrewstapran/Desktop/LINEs_new/reference_files/immunopeptidomes/IEDB/epitope_table_export_1680691681.csv',sep=',')\n",
    "IEDB.columns = IEDB.loc[0]\n",
    "IEDB = IEDB[1:]\n",
    "IEDB_list = list(set(list(IEDB['Description_Peptide'])))\n",
    "IEDB_list_final = []\n",
    "for each in IEDB_list:\n",
    "    m = re.match(r'[A-Z]+',each)\n",
    "    IEDB_list_final.append(m.group(0))\n",
    "\n",
    "print('HLA_ATLAS_LORF')\n",
    "HLA_ATLAS_LORF = ['TPRHIIVRF','EIVAIINSL','PNSFYEASIILIPKPG']\n"
   ]
  },
  {
   "cell_type": "markdown",
   "id": "2d4cebe0",
   "metadata": {},
   "source": [
    "#### Collecting all lists into one"
   ]
  },
  {
   "cell_type": "code",
   "execution_count": null,
   "id": "70d75769",
   "metadata": {},
   "outputs": [],
   "source": [
    "HLA_ATLAS_CRYPTIC_PEPTIDES_list = list(set(list(HLA_ATLAS_CRYPTIC_PEPTIDES['Sequence'])))\n",
    "PXD001898_cryptic_peptides_list = list(set(list(PXD001898_cryptic_peptides['Peptide'])))\n",
    "PXD004894_peptides_unannotated_list = list(set(list(PXD004894_peptides_unannotated['Sequence'])))\n",
    "PXD009738_peptides_unannotated_list = list(set(list(PXD009738_peptides_unannotated['Peptide.1'])))\n",
    "PXD017130_peptides_unannotated_list = list(set(list(PXD017130_peptides_unannotated['Peptide'])))\n",
    "PXD026184_peptides_unannotated_list = list(set(list(PXD026184_peptides_unannotated['Sequence'])))\n",
    "PXD034017_peptides_PBMC_list = list(set(list(PXD034017_peptides_PBMC['Peptide'])))\n",
    "PXD034017_peptides_MaMel63a_list = list(set(list(PXD034017_peptides_MaMel63a['Peptide'])))\n",
    "list_all = HLA_ATLAS_CRYPTIC_PEPTIDES_list + PXD001898_cryptic_peptides_list + PXD004894_peptides_unannotated_list + \\\n",
    "PXD009738_peptides_unannotated_list + PXD017130_peptides_unannotated_list + PXD026184_peptides_unannotated_list + \\\n",
    "PXD034017_peptides_PBMC_list + PXD034017_peptides_MaMel63a_list + ereMAPs_list + ereMAPs_OVCAR_list + PXD036856_list_final + IEDB_list_final + HLA_ATLAS_LORF\n",
    "\n",
    "list_all_final = list(set([a for a in list_all if len(a) >= 8]))\n",
    "\n",
    "print(len(list_all_final))\n",
    "print(len(final_list_GBM))\n",
    "print(len(CELLS_output_list_final))\n",
    "\n",
    "peptidome_united = list(set(list_all_final + final_list_GBM + CELLS_output_list_final))\n",
    "print(len(peptidome_united))\n",
    "file1 = open('/Users/andrewstapran/Desktop/LINEs_new/reference_files/immunopeptidomes/peptides/united_peptidome.txt','w')\n",
    "for each in peptidome_united:\n",
    "    file1.write(f'{each}\\n')\n",
    "file1.close()"
   ]
  }
 ],
 "metadata": {
  "kernelspec": {
   "display_name": "Python 3 (ipykernel)",
   "language": "python",
   "name": "python3"
  },
  "language_info": {
   "codemirror_mode": {
    "name": "ipython",
    "version": 3
   },
   "file_extension": ".py",
   "mimetype": "text/x-python",
   "name": "python",
   "nbconvert_exporter": "python",
   "pygments_lexer": "ipython3",
   "version": "3.10.4"
  }
 },
 "nbformat": 4,
 "nbformat_minor": 5
}
